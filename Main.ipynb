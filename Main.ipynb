{
 "cells": [
  {
   "cell_type": "code",
   "execution_count": 8,
   "id": "27ae5082-6c6d-430b-87b9-66b6d9bce4a3",
   "metadata": {},
   "outputs": [],
   "source": [
    "from pathlib import Path"
   ]
  },
  {
   "cell_type": "code",
   "execution_count": 9,
   "id": "a90a7bc5-c0dc-4935-9a55-8fc6a839f8c1",
   "metadata": {},
   "outputs": [],
   "source": [
    "import csv"
   ]
  },
  {
   "cell_type": "code",
   "execution_count": 10,
   "id": "8fb0e5d0-0e22-4b06-9ceb-3407f412a8dc",
   "metadata": {},
   "outputs": [],
   "source": [
    "csvpath = Path(\"/Users/emilianomendez/Downloads/budget_data.csv\")"
   ]
  },
  {
   "cell_type": "code",
   "execution_count": 22,
   "id": "bfd98f25-df10-4000-a0aa-65269fc75342",
   "metadata": {},
   "outputs": [],
   "source": [
    "df = pd.read_csv(path)"
   ]
  },
  {
   "cell_type": "code",
   "execution_count": 23,
   "id": "0ccccefe-6580-4d0b-a2ef-d8df8f95a6a1",
   "metadata": {},
   "outputs": [
    {
     "data": {
      "text/html": [
       "<div>\n",
       "<style scoped>\n",
       "    .dataframe tbody tr th:only-of-type {\n",
       "        vertical-align: middle;\n",
       "    }\n",
       "\n",
       "    .dataframe tbody tr th {\n",
       "        vertical-align: top;\n",
       "    }\n",
       "\n",
       "    .dataframe thead th {\n",
       "        text-align: right;\n",
       "    }\n",
       "</style>\n",
       "<table border=\"1\" class=\"dataframe\">\n",
       "  <thead>\n",
       "    <tr style=\"text-align: right;\">\n",
       "      <th></th>\n",
       "      <th>Date</th>\n",
       "      <th>Profit/Losses</th>\n",
       "    </tr>\n",
       "  </thead>\n",
       "  <tbody>\n",
       "    <tr>\n",
       "      <th>0</th>\n",
       "      <td>Jan-2010</td>\n",
       "      <td>867884</td>\n",
       "    </tr>\n",
       "    <tr>\n",
       "      <th>1</th>\n",
       "      <td>Feb-2010</td>\n",
       "      <td>984655</td>\n",
       "    </tr>\n",
       "    <tr>\n",
       "      <th>2</th>\n",
       "      <td>Mar-2010</td>\n",
       "      <td>322013</td>\n",
       "    </tr>\n",
       "    <tr>\n",
       "      <th>3</th>\n",
       "      <td>Apr-2010</td>\n",
       "      <td>-69417</td>\n",
       "    </tr>\n",
       "    <tr>\n",
       "      <th>4</th>\n",
       "      <td>May-2010</td>\n",
       "      <td>310503</td>\n",
       "    </tr>\n",
       "    <tr>\n",
       "      <th>...</th>\n",
       "      <td>...</td>\n",
       "      <td>...</td>\n",
       "    </tr>\n",
       "    <tr>\n",
       "      <th>81</th>\n",
       "      <td>Oct-2016</td>\n",
       "      <td>102685</td>\n",
       "    </tr>\n",
       "    <tr>\n",
       "      <th>82</th>\n",
       "      <td>Nov-2016</td>\n",
       "      <td>795914</td>\n",
       "    </tr>\n",
       "    <tr>\n",
       "      <th>83</th>\n",
       "      <td>Dec-2016</td>\n",
       "      <td>60988</td>\n",
       "    </tr>\n",
       "    <tr>\n",
       "      <th>84</th>\n",
       "      <td>Jan-2017</td>\n",
       "      <td>138230</td>\n",
       "    </tr>\n",
       "    <tr>\n",
       "      <th>85</th>\n",
       "      <td>Feb-2017</td>\n",
       "      <td>671099</td>\n",
       "    </tr>\n",
       "  </tbody>\n",
       "</table>\n",
       "<p>86 rows × 2 columns</p>\n",
       "</div>"
      ],
      "text/plain": [
       "        Date  Profit/Losses\n",
       "0   Jan-2010         867884\n",
       "1   Feb-2010         984655\n",
       "2   Mar-2010         322013\n",
       "3   Apr-2010         -69417\n",
       "4   May-2010         310503\n",
       "..       ...            ...\n",
       "81  Oct-2016         102685\n",
       "82  Nov-2016         795914\n",
       "83  Dec-2016          60988\n",
       "84  Jan-2017         138230\n",
       "85  Feb-2017         671099\n",
       "\n",
       "[86 rows x 2 columns]"
      ]
     },
     "execution_count": 23,
     "metadata": {},
     "output_type": "execute_result"
    }
   ],
   "source": [
    "df"
   ]
  },
  {
   "cell_type": "code",
   "execution_count": 24,
   "id": "014bc092-5af1-4b6b-b56b-5c9a16f5df51",
   "metadata": {},
   "outputs": [],
   "source": [
    "path = \"/Users/emilianomendez/Downloads/budget_data.csv\""
   ]
  },
  {
   "cell_type": "code",
   "execution_count": 25,
   "id": "7079fa3d-fed8-4868-a1e6-b89ec00fc4db",
   "metadata": {},
   "outputs": [],
   "source": [
    "import pandas as pd"
   ]
  },
  {
   "cell_type": "code",
   "execution_count": 26,
   "id": "7c2a2a60-ac8f-40e0-b377-67a5243451f1",
   "metadata": {},
   "outputs": [
    {
     "data": {
      "text/html": [
       "<div>\n",
       "<style scoped>\n",
       "    .dataframe tbody tr th:only-of-type {\n",
       "        vertical-align: middle;\n",
       "    }\n",
       "\n",
       "    .dataframe tbody tr th {\n",
       "        vertical-align: top;\n",
       "    }\n",
       "\n",
       "    .dataframe thead th {\n",
       "        text-align: right;\n",
       "    }\n",
       "</style>\n",
       "<table border=\"1\" class=\"dataframe\">\n",
       "  <thead>\n",
       "    <tr style=\"text-align: right;\">\n",
       "      <th></th>\n",
       "      <th>Date</th>\n",
       "      <th>Profit/Losses</th>\n",
       "    </tr>\n",
       "  </thead>\n",
       "  <tbody>\n",
       "    <tr>\n",
       "      <th>0</th>\n",
       "      <td>Jan-2010</td>\n",
       "      <td>867884</td>\n",
       "    </tr>\n",
       "    <tr>\n",
       "      <th>1</th>\n",
       "      <td>Feb-2010</td>\n",
       "      <td>984655</td>\n",
       "    </tr>\n",
       "    <tr>\n",
       "      <th>2</th>\n",
       "      <td>Mar-2010</td>\n",
       "      <td>322013</td>\n",
       "    </tr>\n",
       "    <tr>\n",
       "      <th>3</th>\n",
       "      <td>Apr-2010</td>\n",
       "      <td>-69417</td>\n",
       "    </tr>\n",
       "    <tr>\n",
       "      <th>4</th>\n",
       "      <td>May-2010</td>\n",
       "      <td>310503</td>\n",
       "    </tr>\n",
       "    <tr>\n",
       "      <th>...</th>\n",
       "      <td>...</td>\n",
       "      <td>...</td>\n",
       "    </tr>\n",
       "    <tr>\n",
       "      <th>81</th>\n",
       "      <td>Oct-2016</td>\n",
       "      <td>102685</td>\n",
       "    </tr>\n",
       "    <tr>\n",
       "      <th>82</th>\n",
       "      <td>Nov-2016</td>\n",
       "      <td>795914</td>\n",
       "    </tr>\n",
       "    <tr>\n",
       "      <th>83</th>\n",
       "      <td>Dec-2016</td>\n",
       "      <td>60988</td>\n",
       "    </tr>\n",
       "    <tr>\n",
       "      <th>84</th>\n",
       "      <td>Jan-2017</td>\n",
       "      <td>138230</td>\n",
       "    </tr>\n",
       "    <tr>\n",
       "      <th>85</th>\n",
       "      <td>Feb-2017</td>\n",
       "      <td>671099</td>\n",
       "    </tr>\n",
       "  </tbody>\n",
       "</table>\n",
       "<p>86 rows × 2 columns</p>\n",
       "</div>"
      ],
      "text/plain": [
       "        Date  Profit/Losses\n",
       "0   Jan-2010         867884\n",
       "1   Feb-2010         984655\n",
       "2   Mar-2010         322013\n",
       "3   Apr-2010         -69417\n",
       "4   May-2010         310503\n",
       "..       ...            ...\n",
       "81  Oct-2016         102685\n",
       "82  Nov-2016         795914\n",
       "83  Dec-2016          60988\n",
       "84  Jan-2017         138230\n",
       "85  Feb-2017         671099\n",
       "\n",
       "[86 rows x 2 columns]"
      ]
     },
     "execution_count": 26,
     "metadata": {},
     "output_type": "execute_result"
    }
   ],
   "source": [
    "pd.read_csv(path)"
   ]
  },
  {
   "cell_type": "code",
   "execution_count": 27,
   "id": "e1b758c4-0dce-4c6a-8d63-f9a153b358b6",
   "metadata": {},
   "outputs": [],
   "source": [
    "from pathlib import Path"
   ]
  },
  {
   "cell_type": "code",
   "execution_count": 28,
   "id": "9e3f6e89-6ac7-435d-99ba-f1d7ac3c8dfc",
   "metadata": {},
   "outputs": [],
   "source": [
    "import csv"
   ]
  },
  {
   "cell_type": "code",
   "execution_count": 29,
   "id": "4faa3f4b-e6b9-464f-a4bd-f995517d0cf3",
   "metadata": {},
   "outputs": [],
   "source": [
    "csvpath = Path(\"/Users/emilianomendez/Downloads/budget_data.csv\")"
   ]
  },
  {
   "cell_type": "code",
   "execution_count": null,
   "id": "b01a8eb8-5cc4-4a8f-aac9-01d8f290a959",
   "metadata": {},
   "outputs": [],
   "source": [
    "# Calculate total number of months:"
   ]
  },
  {
   "cell_type": "code",
   "execution_count": 30,
   "id": "968cbd0f-4936-4032-83ee-5c45ba510d22",
   "metadata": {
    "tags": []
   },
   "outputs": [
    {
     "data": {
      "text/plain": [
       "86"
      ]
     },
     "execution_count": 30,
     "metadata": {},
     "output_type": "execute_result"
    }
   ],
   "source": [
    "df = pd.read_csv(path)\n",
    "df['Profit/Losses'].count()"
   ]
  },
  {
   "cell_type": "code",
   "execution_count": null,
   "id": "ba119a98-efae-4331-adc8-de9cc7d372a9",
   "metadata": {},
   "outputs": [],
   "source": [
    "# Calculate total Profit/Losses:"
   ]
  },
  {
   "cell_type": "code",
   "execution_count": 31,
   "id": "b890e84e-6906-496b-a4f7-38349cd706ba",
   "metadata": {},
   "outputs": [
    {
     "data": {
      "text/plain": [
       "38382578"
      ]
     },
     "execution_count": 31,
     "metadata": {},
     "output_type": "execute_result"
    }
   ],
   "source": [
    "df['Profit/Losses'].sum()"
   ]
  },
  {
   "cell_type": "code",
   "execution_count": null,
   "id": "e419002c-21b9-478d-8b20-4b7ff736d707",
   "metadata": {},
   "outputs": [],
   "source": [
    "# The average of the changes in Profit/Losses over the entire period"
   ]
  },
  {
   "cell_type": "code",
   "execution_count": 32,
   "id": "2c4657e0-fae0-4e57-a347-28b22db10842",
   "metadata": {},
   "outputs": [
    {
     "data": {
      "text/html": [
       "<div>\n",
       "<style scoped>\n",
       "    .dataframe tbody tr th:only-of-type {\n",
       "        vertical-align: middle;\n",
       "    }\n",
       "\n",
       "    .dataframe tbody tr th {\n",
       "        vertical-align: top;\n",
       "    }\n",
       "\n",
       "    .dataframe thead th {\n",
       "        text-align: right;\n",
       "    }\n",
       "</style>\n",
       "<table border=\"1\" class=\"dataframe\">\n",
       "  <thead>\n",
       "    <tr style=\"text-align: right;\">\n",
       "      <th></th>\n",
       "      <th>Date</th>\n",
       "      <th>Profit/Losses</th>\n",
       "    </tr>\n",
       "  </thead>\n",
       "  <tbody>\n",
       "    <tr>\n",
       "      <th>0</th>\n",
       "      <td>Jan-2010</td>\n",
       "      <td>867884</td>\n",
       "    </tr>\n",
       "    <tr>\n",
       "      <th>1</th>\n",
       "      <td>Feb-2010</td>\n",
       "      <td>984655</td>\n",
       "    </tr>\n",
       "    <tr>\n",
       "      <th>2</th>\n",
       "      <td>Mar-2010</td>\n",
       "      <td>322013</td>\n",
       "    </tr>\n",
       "    <tr>\n",
       "      <th>3</th>\n",
       "      <td>Apr-2010</td>\n",
       "      <td>-69417</td>\n",
       "    </tr>\n",
       "    <tr>\n",
       "      <th>4</th>\n",
       "      <td>May-2010</td>\n",
       "      <td>310503</td>\n",
       "    </tr>\n",
       "    <tr>\n",
       "      <th>...</th>\n",
       "      <td>...</td>\n",
       "      <td>...</td>\n",
       "    </tr>\n",
       "    <tr>\n",
       "      <th>81</th>\n",
       "      <td>Oct-2016</td>\n",
       "      <td>102685</td>\n",
       "    </tr>\n",
       "    <tr>\n",
       "      <th>82</th>\n",
       "      <td>Nov-2016</td>\n",
       "      <td>795914</td>\n",
       "    </tr>\n",
       "    <tr>\n",
       "      <th>83</th>\n",
       "      <td>Dec-2016</td>\n",
       "      <td>60988</td>\n",
       "    </tr>\n",
       "    <tr>\n",
       "      <th>84</th>\n",
       "      <td>Jan-2017</td>\n",
       "      <td>138230</td>\n",
       "    </tr>\n",
       "    <tr>\n",
       "      <th>85</th>\n",
       "      <td>Feb-2017</td>\n",
       "      <td>671099</td>\n",
       "    </tr>\n",
       "  </tbody>\n",
       "</table>\n",
       "<p>86 rows × 2 columns</p>\n",
       "</div>"
      ],
      "text/plain": [
       "        Date  Profit/Losses\n",
       "0   Jan-2010         867884\n",
       "1   Feb-2010         984655\n",
       "2   Mar-2010         322013\n",
       "3   Apr-2010         -69417\n",
       "4   May-2010         310503\n",
       "..       ...            ...\n",
       "81  Oct-2016         102685\n",
       "82  Nov-2016         795914\n",
       "83  Dec-2016          60988\n",
       "84  Jan-2017         138230\n",
       "85  Feb-2017         671099\n",
       "\n",
       "[86 rows x 2 columns]"
      ]
     },
     "execution_count": 32,
     "metadata": {},
     "output_type": "execute_result"
    }
   ],
   "source": [
    "df"
   ]
  },
  {
   "cell_type": "code",
   "execution_count": null,
   "id": "c24b09b0-7cd0-483b-a3fb-5a499e7fdb1f",
   "metadata": {},
   "outputs": [],
   "source": [
    "# Calculating change in Profit/Loss:"
   ]
  },
  {
   "cell_type": "code",
   "execution_count": 49,
   "id": "f3f1146c-6f9b-4945-ade8-912b5fb9649b",
   "metadata": {},
   "outputs": [],
   "source": [
    "# Dependencies"
   ]
  },
  {
   "cell_type": "code",
   "execution_count": 50,
   "id": "6d85554f-d09b-4e99-9450-dd287de1f2dd",
   "metadata": {},
   "outputs": [],
   "source": [
    "import csv"
   ]
  },
  {
   "cell_type": "code",
   "execution_count": 51,
   "id": "f336ae90-abfd-4a20-8103-8f72dd09cee1",
   "metadata": {
    "tags": []
   },
   "outputs": [],
   "source": [
    "from pathlib import Path"
   ]
  },
  {
   "cell_type": "code",
   "execution_count": null,
   "id": "9908c4d5-3a42-485e-8dee-6acef679c1a9",
   "metadata": {},
   "outputs": [],
   "source": [
    "# Files to load and output"
   ]
  },
  {
   "cell_type": "code",
   "execution_count": 78,
   "id": "d0b7d5ef-3702-4bb0-932f-298e9c529ab4",
   "metadata": {},
   "outputs": [],
   "source": [
    "file_to_load = Path(\"/Users/emilianomendez/Downloads/budget_data.csv\")"
   ]
  },
  {
   "cell_type": "code",
   "execution_count": 79,
   "id": "8beb284c-88a5-4609-98c1-f3060d16aea6",
   "metadata": {},
   "outputs": [],
   "source": [
    "file_to_output = Path(\"/Users/emilianomendez/Downloads/analysis.txt\")"
   ]
  },
  {
   "cell_type": "code",
   "execution_count": null,
   "id": "3625486c-8a35-4478-98a5-c1c2fceb89fb",
   "metadata": {},
   "outputs": [],
   "source": [
    "# Financial parameters"
   ]
  },
  {
   "cell_type": "code",
   "execution_count": 80,
   "id": "fdaffd3e-caee-4440-b5d2-b0212e4fa146",
   "metadata": {},
   "outputs": [],
   "source": [
    "total_months=0"
   ]
  },
  {
   "cell_type": "code",
   "execution_count": 81,
   "id": "43e15069-4a70-4c9f-94a4-a95725c899a0",
   "metadata": {},
   "outputs": [],
   "source": [
    "month_of_change=[]"
   ]
  },
  {
   "cell_type": "code",
   "execution_count": 82,
   "id": "ede1feb0-ec55-4ccb-889b-8987289936aa",
   "metadata": {},
   "outputs": [],
   "source": [
    "net_change_list=[]"
   ]
  },
  {
   "cell_type": "code",
   "execution_count": 83,
   "id": "c0e7feaf-b7c0-4a29-9d21-a18fe67f22a8",
   "metadata": {},
   "outputs": [],
   "source": [
    "greatest_increase=[\"\",0]"
   ]
  },
  {
   "cell_type": "code",
   "execution_count": 84,
   "id": "c877a774-622b-4dd6-bcbb-50cecd32fff6",
   "metadata": {},
   "outputs": [],
   "source": [
    "greatest_decrease=[\"\",9999999999999999]"
   ]
  },
  {
   "cell_type": "code",
   "execution_count": 85,
   "id": "0050b35a-164e-4d78-b421-3cde9b8e08a2",
   "metadata": {},
   "outputs": [],
   "source": [
    "total_net=0"
   ]
  },
  {
   "cell_type": "code",
   "execution_count": 63,
   "id": "2320e61f-920a-4589-a8d6-e737f4414da9",
   "metadata": {},
   "outputs": [],
   "source": [
    "# Read the csv and convert into a list of directories"
   ]
  },
  {
   "cell_type": "code",
   "execution_count": 86,
   "id": "a783f8b5-2e12-4a89-8f53-b5ad2d8cfcac",
   "metadata": {},
   "outputs": [],
   "source": [
    "with open(file_to_load) as financial_data:\n",
    "    reader = csv.reader(financial_data)"
   ]
  },
  {
   "cell_type": "code",
   "execution_count": 66,
   "id": "9cce71b4-7e91-4c3a-b17a-39d82bbb9b19",
   "metadata": {},
   "outputs": [],
   "source": [
    "# Calculating the average change"
   ]
  },
  {
   "cell_type": "code",
   "execution_count": 147,
   "id": "5abdda2d-4d92-4a05-a5a6-7f29a0897c23",
   "metadata": {},
   "outputs": [],
   "source": [
    "from pathlib import Path"
   ]
  },
  {
   "cell_type": "code",
   "execution_count": 148,
   "id": "02f407c1-c394-4142-bf7b-2d94d95c9060",
   "metadata": {},
   "outputs": [],
   "source": [
    "import csv"
   ]
  },
  {
   "cell_type": "code",
   "execution_count": 149,
   "id": "b7547808-27df-49d1-a611-fc69e0c7fc4b",
   "metadata": {},
   "outputs": [],
   "source": [
    "path = \"/Users/emilianomendez/Desktop/budget_data.csv\""
   ]
  },
  {
   "cell_type": "code",
   "execution_count": 150,
   "id": "f4556a83-a551-48a4-9963-afed2edbe94a",
   "metadata": {},
   "outputs": [],
   "source": [
    "import pandas as pd"
   ]
  },
  {
   "cell_type": "code",
   "execution_count": 151,
   "id": "0c6bef61-6974-41e8-821f-4db51d6c7d99",
   "metadata": {},
   "outputs": [
    {
     "data": {
      "text/html": [
       "<div>\n",
       "<style scoped>\n",
       "    .dataframe tbody tr th:only-of-type {\n",
       "        vertical-align: middle;\n",
       "    }\n",
       "\n",
       "    .dataframe tbody tr th {\n",
       "        vertical-align: top;\n",
       "    }\n",
       "\n",
       "    .dataframe thead th {\n",
       "        text-align: right;\n",
       "    }\n",
       "</style>\n",
       "<table border=\"1\" class=\"dataframe\">\n",
       "  <thead>\n",
       "    <tr style=\"text-align: right;\">\n",
       "      <th></th>\n",
       "      <th>Date</th>\n",
       "      <th>Profit/Losses</th>\n",
       "      <th>Change</th>\n",
       "    </tr>\n",
       "  </thead>\n",
       "  <tbody>\n",
       "    <tr>\n",
       "      <th>0</th>\n",
       "      <td>Jan-2010</td>\n",
       "      <td>867884</td>\n",
       "      <td>0.0</td>\n",
       "    </tr>\n",
       "    <tr>\n",
       "      <th>1</th>\n",
       "      <td>Feb-2010</td>\n",
       "      <td>984655</td>\n",
       "      <td>116771.0</td>\n",
       "    </tr>\n",
       "    <tr>\n",
       "      <th>2</th>\n",
       "      <td>Mar-2010</td>\n",
       "      <td>322013</td>\n",
       "      <td>-662642.0</td>\n",
       "    </tr>\n",
       "    <tr>\n",
       "      <th>3</th>\n",
       "      <td>Apr-2010</td>\n",
       "      <td>-69417</td>\n",
       "      <td>-391430.0</td>\n",
       "    </tr>\n",
       "    <tr>\n",
       "      <th>4</th>\n",
       "      <td>May-2010</td>\n",
       "      <td>310503</td>\n",
       "      <td>379920.0</td>\n",
       "    </tr>\n",
       "    <tr>\n",
       "      <th>...</th>\n",
       "      <td>...</td>\n",
       "      <td>...</td>\n",
       "      <td>...</td>\n",
       "    </tr>\n",
       "    <tr>\n",
       "      <th>81</th>\n",
       "      <td>Oct-2016</td>\n",
       "      <td>102685</td>\n",
       "      <td>-665765.0</td>\n",
       "    </tr>\n",
       "    <tr>\n",
       "      <th>82</th>\n",
       "      <td>Nov-2016</td>\n",
       "      <td>795914</td>\n",
       "      <td>693229.0</td>\n",
       "    </tr>\n",
       "    <tr>\n",
       "      <th>83</th>\n",
       "      <td>Dec-2016</td>\n",
       "      <td>60988</td>\n",
       "      <td>-734926.0</td>\n",
       "    </tr>\n",
       "    <tr>\n",
       "      <th>84</th>\n",
       "      <td>Jan-2017</td>\n",
       "      <td>138230</td>\n",
       "      <td>77242.0</td>\n",
       "    </tr>\n",
       "    <tr>\n",
       "      <th>85</th>\n",
       "      <td>Feb-2017</td>\n",
       "      <td>671099</td>\n",
       "      <td>532869.0</td>\n",
       "    </tr>\n",
       "  </tbody>\n",
       "</table>\n",
       "<p>86 rows × 3 columns</p>\n",
       "</div>"
      ],
      "text/plain": [
       "        Date  Profit/Losses    Change\n",
       "0   Jan-2010         867884       0.0\n",
       "1   Feb-2010         984655  116771.0\n",
       "2   Mar-2010         322013 -662642.0\n",
       "3   Apr-2010         -69417 -391430.0\n",
       "4   May-2010         310503  379920.0\n",
       "..       ...            ...       ...\n",
       "81  Oct-2016         102685 -665765.0\n",
       "82  Nov-2016         795914  693229.0\n",
       "83  Dec-2016          60988 -734926.0\n",
       "84  Jan-2017         138230   77242.0\n",
       "85  Feb-2017         671099  532869.0\n",
       "\n",
       "[86 rows x 3 columns]"
      ]
     },
     "execution_count": 151,
     "metadata": {},
     "output_type": "execute_result"
    }
   ],
   "source": [
    "pd.read_csv(path)"
   ]
  },
  {
   "cell_type": "code",
   "execution_count": null,
   "id": "2fbb4b12-4692-4687-a0b2-1d019dd247e7",
   "metadata": {},
   "outputs": [],
   "source": [
    "# Greatest increase in profits"
   ]
  },
  {
   "cell_type": "code",
   "execution_count": 156,
   "id": "b99aff2b-4009-478f-8d2c-a4f15a8b8415",
   "metadata": {},
   "outputs": [],
   "source": [
    "df = pd.read_csv(path)"
   ]
  },
  {
   "cell_type": "code",
   "execution_count": 157,
   "id": "630dc32f-3529-45f6-9085-676c650a3f00",
   "metadata": {},
   "outputs": [
    {
     "data": {
      "text/plain": [
       "1926159.0"
      ]
     },
     "execution_count": 157,
     "metadata": {},
     "output_type": "execute_result"
    }
   ],
   "source": [
    "df['Change'].max()"
   ]
  },
  {
   "cell_type": "code",
   "execution_count": null,
   "id": "cb96785e-a9ca-4e8b-ab98-02e52ee9551c",
   "metadata": {},
   "outputs": [],
   "source": [
    "# Greatest decrease in profits"
   ]
  },
  {
   "cell_type": "code",
   "execution_count": 158,
   "id": "7ea38c88-9ee7-4fbc-94bd-2a2b4ce38ff4",
   "metadata": {},
   "outputs": [
    {
     "data": {
      "text/plain": [
       "-2196167.0"
      ]
     },
     "execution_count": 158,
     "metadata": {},
     "output_type": "execute_result"
    }
   ],
   "source": [
    "df['Change'].min()"
   ]
  },
  {
   "cell_type": "code",
   "execution_count": 159,
   "id": "be7c4a09-e7fc-4cb7-babd-0c9a3b7db10d",
   "metadata": {},
   "outputs": [
    {
     "data": {
      "text/plain": [
       "-196785.0"
      ]
     },
     "execution_count": 159,
     "metadata": {},
     "output_type": "execute_result"
    }
   ],
   "source": [
    "df['Change'].sum()"
   ]
  },
  {
   "cell_type": "code",
   "execution_count": 160,
   "id": "d267d707-d9d4-4e8c-8b27-1eeb723d5e37",
   "metadata": {},
   "outputs": [
    {
     "data": {
      "text/plain": [
       "86"
      ]
     },
     "execution_count": 160,
     "metadata": {},
     "output_type": "execute_result"
    }
   ],
   "source": [
    "df['Change'].count()"
   ]
  },
  {
   "cell_type": "code",
   "execution_count": 175,
   "id": "0fffc455-5ccc-4bf2-b871-6ec03be105d9",
   "metadata": {},
   "outputs": [
    {
     "data": {
      "text/plain": [
       "86"
      ]
     },
     "execution_count": 175,
     "metadata": {},
     "output_type": "execute_result"
    }
   ],
   "source": [
    "df['Profit/Losses'].count()"
   ]
  },
  {
   "cell_type": "code",
   "execution_count": null,
   "id": "e52178cf-8ad2-4d5d-8553-54b7eaedb19e",
   "metadata": {},
   "outputs": [],
   "source": [
    "# Average change"
   ]
  },
  {
   "cell_type": "code",
   "execution_count": 161,
   "id": "4e49d49e-2ae6-4919-9afa-11fd2a2f5cc2",
   "metadata": {},
   "outputs": [],
   "source": [
    "average=(df['Change'].sum())/(df['Change'].count())"
   ]
  },
  {
   "cell_type": "code",
   "execution_count": 162,
   "id": "d8b908a3-28a0-49ba-8ac7-06ac801f8c16",
   "metadata": {},
   "outputs": [
    {
     "name": "stdout",
     "output_type": "stream",
     "text": [
      "-2288.1976744186045\n"
     ]
    }
   ],
   "source": [
    "print(average)"
   ]
  },
  {
   "cell_type": "code",
   "execution_count": null,
   "id": "b92e2067-198b-4cfa-a0d7-623339f1c9b8",
   "metadata": {},
   "outputs": [],
   "source": [
    "#Generate output summary:"
   ]
  },
  {
   "cell_type": "code",
   "execution_count": 189,
   "id": "77375236-dcf9-42bf-96ad-f5b8fe961211",
   "metadata": {},
   "outputs": [],
   "source": [
    "output = (\n",
    "    f\"\\nFinancial Analysis\\n\"\n",
    "    f\"____________________________________\\n\"\n",
    "    f\"Total_Months:{df['Profit/Losses'].count()}\\n\"\n",
    "    f\"Total: ${df['Profit/Losses'].sum()}\\n\"\n",
    "    f\"Average Change: ${(df['Change'].sum())/(df['Change'].count())}\\n\"\n",
    "    f\"Greatest Increase in profits: ${df['Change'].max()}\\n\"\n",
    "    f\"Greatest Decrease in profits: ${df['Change'].min()}\\n\"\n",
    ")"
   ]
  },
  {
   "cell_type": "code",
   "execution_count": 190,
   "id": "49342783-359e-4dc7-8e1c-b3e20bf689b1",
   "metadata": {},
   "outputs": [
    {
     "name": "stdout",
     "output_type": "stream",
     "text": [
      "\n",
      "Financial Analysis\n",
      "____________________________________\n",
      "Total_Months:86\n",
      "Total: $38382578\n",
      "Average Change: $-2288.1976744186045\n",
      "Greatest Increase in profits: $1926159.0\n",
      "Greatest Decrease in profits: $-2196167.0\n",
      "\n"
     ]
    }
   ],
   "source": [
    "print(output)"
   ]
  },
  {
   "cell_type": "code",
   "execution_count": null,
   "id": "7fb1699a-9e03-40ca-9fb5-b0f89b44cefa",
   "metadata": {},
   "outputs": [],
   "source": []
  }
 ],
 "metadata": {
  "kernelspec": {
   "display_name": "Python 3 (ipykernel)",
   "language": "python",
   "name": "python3"
  },
  "language_info": {
   "codemirror_mode": {
    "name": "ipython",
    "version": 3
   },
   "file_extension": ".py",
   "mimetype": "text/x-python",
   "name": "python",
   "nbconvert_exporter": "python",
   "pygments_lexer": "ipython3",
   "version": "3.9.7"
  }
 },
 "nbformat": 4,
 "nbformat_minor": 5
}
