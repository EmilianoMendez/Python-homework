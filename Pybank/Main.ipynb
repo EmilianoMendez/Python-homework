{
 "cells": [
  {
   "cell_type": "code",
   "execution_count": 17,
   "id": "9f8dd19d-ee12-40d6-9e02-c75cb78297b2",
   "metadata": {},
   "outputs": [],
   "source": [
    "import pandas as pd"
   ]
  },
  {
   "cell_type": "code",
   "execution_count": 18,
   "id": "8e96998e-bc5d-4c96-9db8-e166fe5e0bf2",
   "metadata": {},
   "outputs": [],
   "source": [
    "import numpy_financial "
   ]
  },
  {
   "cell_type": "code",
   "execution_count": 19,
   "id": "ad316da8-f274-4f5e-b549-ca5492db77ea",
   "metadata": {},
   "outputs": [],
   "source": [
    "# Importing CSV"
   ]
  },
  {
   "cell_type": "code",
   "execution_count": 20,
   "id": "ebafd344-cb26-4f14-8807-39fea5f75d39",
   "metadata": {},
   "outputs": [],
   "source": [
    "path = \"/Users/emilianomendez/budget_data.csv\""
   ]
  },
  {
   "cell_type": "code",
   "execution_count": 21,
   "id": "bb1366ea-2f85-4920-84a6-286149e0d0a2",
   "metadata": {},
   "outputs": [
    {
     "data": {
      "text/html": [
       "<div>\n",
       "<style scoped>\n",
       "    .dataframe tbody tr th:only-of-type {\n",
       "        vertical-align: middle;\n",
       "    }\n",
       "\n",
       "    .dataframe tbody tr th {\n",
       "        vertical-align: top;\n",
       "    }\n",
       "\n",
       "    .dataframe thead th {\n",
       "        text-align: right;\n",
       "    }\n",
       "</style>\n",
       "<table border=\"1\" class=\"dataframe\">\n",
       "  <thead>\n",
       "    <tr style=\"text-align: right;\">\n",
       "      <th></th>\n",
       "      <th>Date</th>\n",
       "      <th>Profit/Losses</th>\n",
       "      <th>Change</th>\n",
       "    </tr>\n",
       "  </thead>\n",
       "  <tbody>\n",
       "    <tr>\n",
       "      <th>0</th>\n",
       "      <td>Jan-2010</td>\n",
       "      <td>867884</td>\n",
       "      <td>0.0</td>\n",
       "    </tr>\n",
       "    <tr>\n",
       "      <th>1</th>\n",
       "      <td>Feb-2010</td>\n",
       "      <td>984655</td>\n",
       "      <td>116771.0</td>\n",
       "    </tr>\n",
       "    <tr>\n",
       "      <th>2</th>\n",
       "      <td>Mar-2010</td>\n",
       "      <td>322013</td>\n",
       "      <td>-662642.0</td>\n",
       "    </tr>\n",
       "    <tr>\n",
       "      <th>3</th>\n",
       "      <td>Apr-2010</td>\n",
       "      <td>-69417</td>\n",
       "      <td>-391430.0</td>\n",
       "    </tr>\n",
       "    <tr>\n",
       "      <th>4</th>\n",
       "      <td>May-2010</td>\n",
       "      <td>310503</td>\n",
       "      <td>379920.0</td>\n",
       "    </tr>\n",
       "    <tr>\n",
       "      <th>...</th>\n",
       "      <td>...</td>\n",
       "      <td>...</td>\n",
       "      <td>...</td>\n",
       "    </tr>\n",
       "    <tr>\n",
       "      <th>81</th>\n",
       "      <td>Oct-2016</td>\n",
       "      <td>102685</td>\n",
       "      <td>-665765.0</td>\n",
       "    </tr>\n",
       "    <tr>\n",
       "      <th>82</th>\n",
       "      <td>Nov-2016</td>\n",
       "      <td>795914</td>\n",
       "      <td>693229.0</td>\n",
       "    </tr>\n",
       "    <tr>\n",
       "      <th>83</th>\n",
       "      <td>Dec-2016</td>\n",
       "      <td>60988</td>\n",
       "      <td>-734926.0</td>\n",
       "    </tr>\n",
       "    <tr>\n",
       "      <th>84</th>\n",
       "      <td>Jan-2017</td>\n",
       "      <td>138230</td>\n",
       "      <td>77242.0</td>\n",
       "    </tr>\n",
       "    <tr>\n",
       "      <th>85</th>\n",
       "      <td>Feb-2017</td>\n",
       "      <td>671099</td>\n",
       "      <td>532869.0</td>\n",
       "    </tr>\n",
       "  </tbody>\n",
       "</table>\n",
       "<p>86 rows × 3 columns</p>\n",
       "</div>"
      ],
      "text/plain": [
       "        Date  Profit/Losses    Change\n",
       "0   Jan-2010         867884       0.0\n",
       "1   Feb-2010         984655  116771.0\n",
       "2   Mar-2010         322013 -662642.0\n",
       "3   Apr-2010         -69417 -391430.0\n",
       "4   May-2010         310503  379920.0\n",
       "..       ...            ...       ...\n",
       "81  Oct-2016         102685 -665765.0\n",
       "82  Nov-2016         795914  693229.0\n",
       "83  Dec-2016          60988 -734926.0\n",
       "84  Jan-2017         138230   77242.0\n",
       "85  Feb-2017         671099  532869.0\n",
       "\n",
       "[86 rows x 3 columns]"
      ]
     },
     "execution_count": 21,
     "metadata": {},
     "output_type": "execute_result"
    }
   ],
   "source": [
    "pd.read_csv(path)"
   ]
  },
  {
   "cell_type": "code",
   "execution_count": 23,
   "id": "46269e80-dc43-42b7-ae2e-b0323082cc41",
   "metadata": {},
   "outputs": [],
   "source": [
    "from pathlib import Path"
   ]
  },
  {
   "cell_type": "code",
   "execution_count": 24,
   "id": "006ed08b-ffb2-4a83-ab73-539098c6f731",
   "metadata": {},
   "outputs": [],
   "source": [
    "import csv"
   ]
  },
  {
   "cell_type": "code",
   "execution_count": 25,
   "id": "63e882da-f320-4eb4-9eff-ce04f2d7c6ed",
   "metadata": {},
   "outputs": [],
   "source": [
    "csvpath = Path(\"/Users/emilianomendez/budget_data.csv\")"
   ]
  },
  {
   "cell_type": "code",
   "execution_count": 26,
   "id": "a952d714-7404-4bc1-b2ab-305642eb02d6",
   "metadata": {},
   "outputs": [],
   "source": [
    "df = pd.read_csv(path)"
   ]
  },
  {
   "cell_type": "code",
   "execution_count": 27,
   "id": "fab14092-9efa-401d-bc6b-1ad2d17019b4",
   "metadata": {},
   "outputs": [
    {
     "data": {
      "text/html": [
       "<div>\n",
       "<style scoped>\n",
       "    .dataframe tbody tr th:only-of-type {\n",
       "        vertical-align: middle;\n",
       "    }\n",
       "\n",
       "    .dataframe tbody tr th {\n",
       "        vertical-align: top;\n",
       "    }\n",
       "\n",
       "    .dataframe thead th {\n",
       "        text-align: right;\n",
       "    }\n",
       "</style>\n",
       "<table border=\"1\" class=\"dataframe\">\n",
       "  <thead>\n",
       "    <tr style=\"text-align: right;\">\n",
       "      <th></th>\n",
       "      <th>Date</th>\n",
       "      <th>Profit/Losses</th>\n",
       "      <th>Change</th>\n",
       "    </tr>\n",
       "  </thead>\n",
       "  <tbody>\n",
       "    <tr>\n",
       "      <th>0</th>\n",
       "      <td>Jan-2010</td>\n",
       "      <td>867884</td>\n",
       "      <td>0.0</td>\n",
       "    </tr>\n",
       "    <tr>\n",
       "      <th>1</th>\n",
       "      <td>Feb-2010</td>\n",
       "      <td>984655</td>\n",
       "      <td>116771.0</td>\n",
       "    </tr>\n",
       "    <tr>\n",
       "      <th>2</th>\n",
       "      <td>Mar-2010</td>\n",
       "      <td>322013</td>\n",
       "      <td>-662642.0</td>\n",
       "    </tr>\n",
       "    <tr>\n",
       "      <th>3</th>\n",
       "      <td>Apr-2010</td>\n",
       "      <td>-69417</td>\n",
       "      <td>-391430.0</td>\n",
       "    </tr>\n",
       "    <tr>\n",
       "      <th>4</th>\n",
       "      <td>May-2010</td>\n",
       "      <td>310503</td>\n",
       "      <td>379920.0</td>\n",
       "    </tr>\n",
       "    <tr>\n",
       "      <th>...</th>\n",
       "      <td>...</td>\n",
       "      <td>...</td>\n",
       "      <td>...</td>\n",
       "    </tr>\n",
       "    <tr>\n",
       "      <th>81</th>\n",
       "      <td>Oct-2016</td>\n",
       "      <td>102685</td>\n",
       "      <td>-665765.0</td>\n",
       "    </tr>\n",
       "    <tr>\n",
       "      <th>82</th>\n",
       "      <td>Nov-2016</td>\n",
       "      <td>795914</td>\n",
       "      <td>693229.0</td>\n",
       "    </tr>\n",
       "    <tr>\n",
       "      <th>83</th>\n",
       "      <td>Dec-2016</td>\n",
       "      <td>60988</td>\n",
       "      <td>-734926.0</td>\n",
       "    </tr>\n",
       "    <tr>\n",
       "      <th>84</th>\n",
       "      <td>Jan-2017</td>\n",
       "      <td>138230</td>\n",
       "      <td>77242.0</td>\n",
       "    </tr>\n",
       "    <tr>\n",
       "      <th>85</th>\n",
       "      <td>Feb-2017</td>\n",
       "      <td>671099</td>\n",
       "      <td>532869.0</td>\n",
       "    </tr>\n",
       "  </tbody>\n",
       "</table>\n",
       "<p>86 rows × 3 columns</p>\n",
       "</div>"
      ],
      "text/plain": [
       "        Date  Profit/Losses    Change\n",
       "0   Jan-2010         867884       0.0\n",
       "1   Feb-2010         984655  116771.0\n",
       "2   Mar-2010         322013 -662642.0\n",
       "3   Apr-2010         -69417 -391430.0\n",
       "4   May-2010         310503  379920.0\n",
       "..       ...            ...       ...\n",
       "81  Oct-2016         102685 -665765.0\n",
       "82  Nov-2016         795914  693229.0\n",
       "83  Dec-2016          60988 -734926.0\n",
       "84  Jan-2017         138230   77242.0\n",
       "85  Feb-2017         671099  532869.0\n",
       "\n",
       "[86 rows x 3 columns]"
      ]
     },
     "execution_count": 27,
     "metadata": {},
     "output_type": "execute_result"
    }
   ],
   "source": [
    "df"
   ]
  },
  {
   "cell_type": "code",
   "execution_count": 28,
   "id": "f03c52d1-7c44-428e-81b9-72bbdf8c7254",
   "metadata": {},
   "outputs": [],
   "source": [
    "# Calculate total number of months:"
   ]
  },
  {
   "cell_type": "code",
   "execution_count": 29,
   "id": "ce81e915-cbd8-446e-869d-f974483b3e8e",
   "metadata": {},
   "outputs": [
    {
     "data": {
      "text/plain": [
       "86"
      ]
     },
     "execution_count": 29,
     "metadata": {},
     "output_type": "execute_result"
    }
   ],
   "source": [
    "df['Profit/Losses'].count()"
   ]
  },
  {
   "cell_type": "code",
   "execution_count": 30,
   "id": "b041ad9b-3756-45ad-b933-a50ee7a2fb59",
   "metadata": {},
   "outputs": [],
   "source": [
    "# Calculate total Profit/Losses:"
   ]
  },
  {
   "cell_type": "code",
   "execution_count": 31,
   "id": "adc1abf7-bd69-4538-8056-43988236c0b5",
   "metadata": {},
   "outputs": [
    {
     "data": {
      "text/plain": [
       "38382578"
      ]
     },
     "execution_count": 31,
     "metadata": {},
     "output_type": "execute_result"
    }
   ],
   "source": [
    "df['Profit/Losses'].sum()"
   ]
  },
  {
   "cell_type": "code",
   "execution_count": null,
   "id": "1740c8dc-8a48-4574-aea0-9fbda70fe13f",
   "metadata": {},
   "outputs": [],
   "source": []
  },
  {
   "cell_type": "code",
   "execution_count": 32,
   "id": "71347183-2bc0-48a0-bf71-1fd954fdbf4d",
   "metadata": {},
   "outputs": [],
   "source": [
    "# The average of the changes in Profit/Losses over the entire period"
   ]
  },
  {
   "cell_type": "code",
   "execution_count": 33,
   "id": "cf6d28f4-f910-4f8a-978a-a6f04ce3abb9",
   "metadata": {},
   "outputs": [
    {
     "data": {
      "text/html": [
       "<div>\n",
       "<style scoped>\n",
       "    .dataframe tbody tr th:only-of-type {\n",
       "        vertical-align: middle;\n",
       "    }\n",
       "\n",
       "    .dataframe tbody tr th {\n",
       "        vertical-align: top;\n",
       "    }\n",
       "\n",
       "    .dataframe thead th {\n",
       "        text-align: right;\n",
       "    }\n",
       "</style>\n",
       "<table border=\"1\" class=\"dataframe\">\n",
       "  <thead>\n",
       "    <tr style=\"text-align: right;\">\n",
       "      <th></th>\n",
       "      <th>Date</th>\n",
       "      <th>Profit/Losses</th>\n",
       "      <th>Change</th>\n",
       "    </tr>\n",
       "  </thead>\n",
       "  <tbody>\n",
       "    <tr>\n",
       "      <th>0</th>\n",
       "      <td>Jan-2010</td>\n",
       "      <td>867884</td>\n",
       "      <td>0.0</td>\n",
       "    </tr>\n",
       "    <tr>\n",
       "      <th>1</th>\n",
       "      <td>Feb-2010</td>\n",
       "      <td>984655</td>\n",
       "      <td>116771.0</td>\n",
       "    </tr>\n",
       "    <tr>\n",
       "      <th>2</th>\n",
       "      <td>Mar-2010</td>\n",
       "      <td>322013</td>\n",
       "      <td>-662642.0</td>\n",
       "    </tr>\n",
       "    <tr>\n",
       "      <th>3</th>\n",
       "      <td>Apr-2010</td>\n",
       "      <td>-69417</td>\n",
       "      <td>-391430.0</td>\n",
       "    </tr>\n",
       "    <tr>\n",
       "      <th>4</th>\n",
       "      <td>May-2010</td>\n",
       "      <td>310503</td>\n",
       "      <td>379920.0</td>\n",
       "    </tr>\n",
       "    <tr>\n",
       "      <th>...</th>\n",
       "      <td>...</td>\n",
       "      <td>...</td>\n",
       "      <td>...</td>\n",
       "    </tr>\n",
       "    <tr>\n",
       "      <th>81</th>\n",
       "      <td>Oct-2016</td>\n",
       "      <td>102685</td>\n",
       "      <td>-665765.0</td>\n",
       "    </tr>\n",
       "    <tr>\n",
       "      <th>82</th>\n",
       "      <td>Nov-2016</td>\n",
       "      <td>795914</td>\n",
       "      <td>693229.0</td>\n",
       "    </tr>\n",
       "    <tr>\n",
       "      <th>83</th>\n",
       "      <td>Dec-2016</td>\n",
       "      <td>60988</td>\n",
       "      <td>-734926.0</td>\n",
       "    </tr>\n",
       "    <tr>\n",
       "      <th>84</th>\n",
       "      <td>Jan-2017</td>\n",
       "      <td>138230</td>\n",
       "      <td>77242.0</td>\n",
       "    </tr>\n",
       "    <tr>\n",
       "      <th>85</th>\n",
       "      <td>Feb-2017</td>\n",
       "      <td>671099</td>\n",
       "      <td>532869.0</td>\n",
       "    </tr>\n",
       "  </tbody>\n",
       "</table>\n",
       "<p>86 rows × 3 columns</p>\n",
       "</div>"
      ],
      "text/plain": [
       "        Date  Profit/Losses    Change\n",
       "0   Jan-2010         867884       0.0\n",
       "1   Feb-2010         984655  116771.0\n",
       "2   Mar-2010         322013 -662642.0\n",
       "3   Apr-2010         -69417 -391430.0\n",
       "4   May-2010         310503  379920.0\n",
       "..       ...            ...       ...\n",
       "81  Oct-2016         102685 -665765.0\n",
       "82  Nov-2016         795914  693229.0\n",
       "83  Dec-2016          60988 -734926.0\n",
       "84  Jan-2017         138230   77242.0\n",
       "85  Feb-2017         671099  532869.0\n",
       "\n",
       "[86 rows x 3 columns]"
      ]
     },
     "execution_count": 33,
     "metadata": {},
     "output_type": "execute_result"
    }
   ],
   "source": [
    "df"
   ]
  },
  {
   "cell_type": "code",
   "execution_count": 34,
   "id": "6ca8d413-fb27-4369-8b9d-c8b08645082b",
   "metadata": {},
   "outputs": [],
   "source": [
    "# Calculating change in Profit/Loss:"
   ]
  },
  {
   "cell_type": "code",
   "execution_count": 35,
   "id": "2a09cf6b-29bd-41b5-9ceb-f855bb9179c5",
   "metadata": {},
   "outputs": [],
   "source": [
    "# Dependencies"
   ]
  },
  {
   "cell_type": "code",
   "execution_count": 36,
   "id": "c992eab4-d7d8-4e8f-9b1d-af397ad3b7f6",
   "metadata": {},
   "outputs": [],
   "source": [
    "import csv"
   ]
  },
  {
   "cell_type": "code",
   "execution_count": 37,
   "id": "577cf860-6606-47a9-be84-31d0ba9642ee",
   "metadata": {},
   "outputs": [],
   "source": [
    "from pathlib import Path"
   ]
  },
  {
   "cell_type": "code",
   "execution_count": 38,
   "id": "50d52b17-2b82-4401-a20a-0e4c3bce8a29",
   "metadata": {},
   "outputs": [],
   "source": [
    "# Files to load and output"
   ]
  },
  {
   "cell_type": "code",
   "execution_count": 39,
   "id": "2678e838-56de-4728-a934-691d9bd68618",
   "metadata": {},
   "outputs": [],
   "source": [
    "file_to_load = Path(\"/Users/emilianomendez/budget_data.csv\")"
   ]
  },
  {
   "cell_type": "code",
   "execution_count": 40,
   "id": "ed5a08d7-e5c2-4bbb-965a-e47ad10a5c0a",
   "metadata": {},
   "outputs": [],
   "source": [
    "file_to_output = Path(\"/Users/emilianomendez/analysis.txt\")"
   ]
  },
  {
   "cell_type": "code",
   "execution_count": 41,
   "id": "5f28f92b-6c46-44b6-a27d-e2d24a0dbbc2",
   "metadata": {},
   "outputs": [],
   "source": [
    "# Financial parameters"
   ]
  },
  {
   "cell_type": "code",
   "execution_count": 42,
   "id": "4ceb1fef-81d7-4a41-b8fd-f93f58b5278f",
   "metadata": {},
   "outputs": [],
   "source": [
    "total_months = 0"
   ]
  },
  {
   "cell_type": "code",
   "execution_count": 43,
   "id": "7e8d479a-3c69-4567-b0b0-2bd4a8e5fac8",
   "metadata": {},
   "outputs": [],
   "source": [
    "month_of_change = []"
   ]
  },
  {
   "cell_type": "code",
   "execution_count": 44,
   "id": "c332f459-e053-43e2-804a-937023c098aa",
   "metadata": {},
   "outputs": [],
   "source": [
    "net_change_list = []"
   ]
  },
  {
   "cell_type": "code",
   "execution_count": 45,
   "id": "4ad15317-6a1c-4ad8-92a7-0935283811b1",
   "metadata": {},
   "outputs": [],
   "source": [
    "greatest_increase = [\"\",0]"
   ]
  },
  {
   "cell_type": "code",
   "execution_count": 47,
   "id": "fa3e46b2-fda4-463f-ba2a-b5b840b7c44d",
   "metadata": {},
   "outputs": [],
   "source": [
    "greatest_decrease = ['',99999999999999999]"
   ]
  },
  {
   "cell_type": "code",
   "execution_count": 48,
   "id": "64d1b2d4-a465-49cb-b26c-a8120fd778bf",
   "metadata": {},
   "outputs": [],
   "source": [
    "total_net = 0"
   ]
  },
  {
   "cell_type": "code",
   "execution_count": 49,
   "id": "d4c5eeae-1c14-4fb7-ac6a-5b36f8b92788",
   "metadata": {},
   "outputs": [],
   "source": [
    "# Read csv and convert it into a list of dictionaries"
   ]
  },
  {
   "cell_type": "code",
   "execution_count": 66,
   "id": "2bc87d20-4db1-4458-9487-78afe80284e1",
   "metadata": {},
   "outputs": [],
   "source": [
    "with open(file_to_load) as financial_data:\n",
    "    reader = csv.reader(financial_data)"
   ]
  },
  {
   "cell_type": "code",
   "execution_count": 62,
   "id": "6b063ada-fa17-407e-98cd-bcf6e3fe2e06",
   "metadata": {},
   "outputs": [],
   "source": [
    "# Read header row"
   ]
  },
  {
   "cell_type": "raw",
   "id": "394303bf-059a-4d15-90d6-735b49d41b15",
   "metadata": {},
   "source": [
    "header = next(reader)"
   ]
  },
  {
   "cell_type": "code",
   "execution_count": 65,
   "id": "791d0299-e9ca-4ee8-aaea-6d7d40b7548b",
   "metadata": {},
   "outputs": [],
   "source": [
    "# Extract first row to avoid appending to net_change_list"
   ]
  },
  {
   "cell_type": "code",
   "execution_count": 82,
   "id": "9d1933b0-035a-4d3f-a4a2-8fcbe7bb9140",
   "metadata": {},
   "outputs": [
    {
     "ename": "ValueError",
     "evalue": "I/O operation on closed file.",
     "output_type": "error",
     "traceback": [
      "\u001b[0;31m---------------------------------------------------------------------------\u001b[0m",
      "\u001b[0;31mValueError\u001b[0m                                Traceback (most recent call last)",
      "\u001b[0;32m/var/folders/1z/zl3xctrs405bvlcjxg8l94000000gn/T/ipykernel_36924/843380347.py\u001b[0m in \u001b[0;36m<module>\u001b[0;34m\u001b[0m\n\u001b[0;32m----> 1\u001b[0;31m \u001b[0mfirst_row\u001b[0m \u001b[0;34m=\u001b[0m \u001b[0mnext\u001b[0m\u001b[0;34m(\u001b[0m\u001b[0mreader\u001b[0m\u001b[0;34m)\u001b[0m\u001b[0;34m\u001b[0m\u001b[0;34m\u001b[0m\u001b[0m\n\u001b[0m\u001b[1;32m      2\u001b[0m \u001b[0mtotal_months\u001b[0m \u001b[0;34m=\u001b[0m \u001b[0mtotal_months\u001b[0m \u001b[0;34m+\u001b[0m \u001b[0;36m1\u001b[0m\u001b[0;34m\u001b[0m\u001b[0;34m\u001b[0m\u001b[0m\n\u001b[1;32m      3\u001b[0m \u001b[0mtotal_net\u001b[0m \u001b[0;34m=\u001b[0m \u001b[0mtotal_net\u001b[0m \u001b[0;34m+\u001b[0m \u001b[0mint\u001b[0m\u001b[0;34m(\u001b[0m\u001b[0mfirst_row\u001b[0m\u001b[0;34m[\u001b[0m\u001b[0;36m1\u001b[0m\u001b[0;34m]\u001b[0m\u001b[0;34m)\u001b[0m\u001b[0;34m\u001b[0m\u001b[0;34m\u001b[0m\u001b[0m\n\u001b[1;32m      4\u001b[0m \u001b[0mprev_net\u001b[0m \u001b[0;34m=\u001b[0m \u001b[0mint\u001b[0m\u001b[0;34m(\u001b[0m\u001b[0mfirst_row\u001b[0m\u001b[0;34m[\u001b[0m\u001b[0;36m1\u001b[0m\u001b[0;34m]\u001b[0m\u001b[0;34m)\u001b[0m\u001b[0;34m\u001b[0m\u001b[0;34m\u001b[0m\u001b[0m\n",
      "\u001b[0;31mValueError\u001b[0m: I/O operation on closed file."
     ]
    }
   ],
   "source": [
    "first_row = next(reader)\n",
    "total_months = total_months + 1\n",
    "total_net = total_net + int(first_row[1])\n",
    "prev_net = int(first_row[1])"
   ]
  },
  {
   "cell_type": "code",
   "execution_count": 83,
   "id": "e42c04ce-05ac-47b7-aec1-4dc91f615845",
   "metadata": {},
   "outputs": [
    {
     "ename": "ValueError",
     "evalue": "I/O operation on closed file.",
     "output_type": "error",
     "traceback": [
      "\u001b[0;31m---------------------------------------------------------------------------\u001b[0m",
      "\u001b[0;31mValueError\u001b[0m                                Traceback (most recent call last)",
      "\u001b[0;32m/var/folders/1z/zl3xctrs405bvlcjxg8l94000000gn/T/ipykernel_36924/3990308031.py\u001b[0m in \u001b[0;36m<module>\u001b[0;34m\u001b[0m\n\u001b[0;32m----> 1\u001b[0;31m \u001b[0;32mfor\u001b[0m \u001b[0mrow\u001b[0m \u001b[0;32min\u001b[0m \u001b[0mreader\u001b[0m\u001b[0;34m:\u001b[0m\u001b[0;34m\u001b[0m\u001b[0;34m\u001b[0m\u001b[0m\n\u001b[0m\u001b[1;32m      2\u001b[0m     \u001b[0mtotal_months\u001b[0m \u001b[0;34m=\u001b[0m \u001b[0mtotal_months\u001b[0m \u001b[0;34m+\u001b[0m \u001b[0;36m1\u001b[0m\u001b[0;34m\u001b[0m\u001b[0;34m\u001b[0m\u001b[0m\n\u001b[1;32m      3\u001b[0m     \u001b[0mtotal_net\u001b[0m \u001b[0;34m=\u001b[0m \u001b[0mtotal_net\u001b[0m \u001b[0;34m+\u001b[0m \u001b[0mint\u001b[0m\u001b[0;34m(\u001b[0m\u001b[0mrow\u001b[0m\u001b[0;34m[\u001b[0m\u001b[0;34m'Profit/Losses'\u001b[0m\u001b[0;34m]\u001b[0m\u001b[0;34m)\u001b[0m\u001b[0;34m\u001b[0m\u001b[0;34m\u001b[0m\u001b[0m\n",
      "\u001b[0;31mValueError\u001b[0m: I/O operation on closed file."
     ]
    }
   ],
   "source": [
    "for row in reader:\n",
    "    total_months = total_months + 1\n",
    "    total_net = total_net + int(row['Profit/Losses'])"
   ]
  },
  {
   "cell_type": "code",
   "execution_count": 80,
   "id": "a3bb9b12-ca9b-46a0-b84e-aa1a9203b31f",
   "metadata": {},
   "outputs": [],
   "source": [
    "# Track the change"
   ]
  },
  {
   "cell_type": "code",
   "execution_count": 81,
   "id": "be55ea62-83fb-4753-9857-b997eda092ff",
   "metadata": {},
   "outputs": [
    {
     "ename": "NameError",
     "evalue": "name 'row' is not defined",
     "output_type": "error",
     "traceback": [
      "\u001b[0;31m---------------------------------------------------------------------------\u001b[0m",
      "\u001b[0;31mNameError\u001b[0m                                 Traceback (most recent call last)",
      "\u001b[0;32m/var/folders/1z/zl3xctrs405bvlcjxg8l94000000gn/T/ipykernel_36924/3325367248.py\u001b[0m in \u001b[0;36m<module>\u001b[0;34m\u001b[0m\n\u001b[0;32m----> 1\u001b[0;31m \u001b[0mnet_change\u001b[0m \u001b[0;34m=\u001b[0m \u001b[0mint\u001b[0m\u001b[0;34m(\u001b[0m\u001b[0mrow\u001b[0m\u001b[0;34m[\u001b[0m\u001b[0;34m'Profit/Losses'\u001b[0m\u001b[0;34m]\u001b[0m\u001b[0;34m)\u001b[0m \u001b[0;34m-\u001b[0m \u001b[0mprev_net\u001b[0m\u001b[0;34m\u001b[0m\u001b[0;34m\u001b[0m\u001b[0m\n\u001b[0m",
      "\u001b[0;31mNameError\u001b[0m: name 'row' is not defined"
     ]
    }
   ],
   "source": [
    "net_change = int(row['Profit/Losses']) - prev_net"
   ]
  },
  {
   "cell_type": "code",
   "execution_count": 84,
   "id": "956d1e35-2c44-466b-b8d7-61a9c57e7f2f",
   "metadata": {},
   "outputs": [],
   "source": [
    "# Greatest increase in profits"
   ]
  },
  {
   "cell_type": "code",
   "execution_count": 85,
   "id": "3ac132ad-d3e1-4a71-a230-5215fea2744c",
   "metadata": {},
   "outputs": [],
   "source": [
    "df = pd.read_csv(path)"
   ]
  },
  {
   "cell_type": "code",
   "execution_count": 86,
   "id": "321e4b4f-856d-4e04-8387-ecd13c015daa",
   "metadata": {},
   "outputs": [
    {
     "data": {
      "text/plain": [
       "1926159.0"
      ]
     },
     "execution_count": 86,
     "metadata": {},
     "output_type": "execute_result"
    }
   ],
   "source": [
    "df['Change'].max()"
   ]
  },
  {
   "cell_type": "code",
   "execution_count": 87,
   "id": "1cb635dd-8189-4f3e-aaf4-9ccecbdab777",
   "metadata": {},
   "outputs": [],
   "source": [
    "# Greatest decrease in profits"
   ]
  },
  {
   "cell_type": "code",
   "execution_count": 88,
   "id": "63e740f6-c4fe-4f10-bc22-e2cece46b0d4",
   "metadata": {},
   "outputs": [
    {
     "data": {
      "text/plain": [
       "-2196167.0"
      ]
     },
     "execution_count": 88,
     "metadata": {},
     "output_type": "execute_result"
    }
   ],
   "source": [
    "df['Change'].min()"
   ]
  },
  {
   "cell_type": "code",
   "execution_count": 89,
   "id": "0177392e-8694-4bab-9ce1-22cf52d77e8e",
   "metadata": {},
   "outputs": [
    {
     "data": {
      "text/plain": [
       "-196785.0"
      ]
     },
     "execution_count": 89,
     "metadata": {},
     "output_type": "execute_result"
    }
   ],
   "source": [
    "df['Change'].sum()"
   ]
  },
  {
   "cell_type": "code",
   "execution_count": 90,
   "id": "c588aaf4-1d58-4bf5-9d08-687cf9ed3752",
   "metadata": {},
   "outputs": [
    {
     "data": {
      "text/plain": [
       "86"
      ]
     },
     "execution_count": 90,
     "metadata": {},
     "output_type": "execute_result"
    }
   ],
   "source": [
    "df['Change'].count()"
   ]
  },
  {
   "cell_type": "code",
   "execution_count": 91,
   "id": "ce9134b5-b2b1-4f0b-b65e-6970addd7822",
   "metadata": {},
   "outputs": [],
   "source": [
    "# Average change"
   ]
  },
  {
   "cell_type": "code",
   "execution_count": 92,
   "id": "c6d8288e-f230-4e6e-a3f7-0fe95177933f",
   "metadata": {},
   "outputs": [],
   "source": [
    "average=(df['Change'].sum())/(df['Change'].count())"
   ]
  },
  {
   "cell_type": "code",
   "execution_count": 93,
   "id": "f7a457c4-ff6f-4e1d-981f-22fea160afe9",
   "metadata": {},
   "outputs": [
    {
     "name": "stdout",
     "output_type": "stream",
     "text": [
      "-2288.1976744186045\n"
     ]
    }
   ],
   "source": [
    "print(average)"
   ]
  },
  {
   "cell_type": "code",
   "execution_count": 94,
   "id": "b704de39-b4f0-47e2-ad04-c2c87734537c",
   "metadata": {},
   "outputs": [],
   "source": [
    "#Generate output summary:"
   ]
  },
  {
   "cell_type": "code",
   "execution_count": 95,
   "id": "76302942-acef-4d1d-8d0b-7800acfe836e",
   "metadata": {},
   "outputs": [],
   "source": [
    "output = (\n",
    "    f\"\\nFinancial Analysis\\n\"\n",
    "    f\"____________________________________\\n\"\n",
    "    f\"Total_Months:{df['Profit/Losses'].count()}\\n\"\n",
    "    f\"Total: ${df['Profit/Losses'].sum()}\\n\"\n",
    "    f\"Average Change: ${(df['Change'].sum())/(df['Change'].count())}\\n\"\n",
    "    f\"Greatest Increase in profits: ${df['Change'].max()}\\n\"\n",
    "    f\"Greatest Decrease in profits: ${df['Change'].min()}\\n\"\n",
    ")"
   ]
  },
  {
   "cell_type": "code",
   "execution_count": 96,
   "id": "47103e51-4980-43a9-911b-a121c4e94216",
   "metadata": {},
   "outputs": [
    {
     "name": "stdout",
     "output_type": "stream",
     "text": [
      "\n",
      "Financial Analysis\n",
      "____________________________________\n",
      "Total_Months:86\n",
      "Total: $38382578\n",
      "Average Change: $-2288.1976744186045\n",
      "Greatest Increase in profits: $1926159.0\n",
      "Greatest Decrease in profits: $-2196167.0\n",
      "\n"
     ]
    }
   ],
   "source": [
    "print(output)"
   ]
  },
  {
   "cell_type": "code",
   "execution_count": 97,
   "id": "57cbe89f-2b72-47a7-aee9-9a6d05c593dd",
   "metadata": {},
   "outputs": [],
   "source": [
    "# Export results to text file"
   ]
  },
  {
   "cell_type": "code",
   "execution_count": 98,
   "id": "642d86a8-1dda-4987-bca2-54314fa8111e",
   "metadata": {},
   "outputs": [],
   "source": [
    "with open(file_to_output, \"w\") as txt_file:\n",
    "    txt_file.write(output)"
   ]
  },
  {
   "cell_type": "code",
   "execution_count": null,
   "id": "e6236b9c-3a38-46fa-aa81-073765d56e93",
   "metadata": {},
   "outputs": [],
   "source": []
  }
 ],
 "metadata": {
  "kernelspec": {
   "display_name": "Python 3 (ipykernel)",
   "language": "python",
   "name": "python3"
  },
  "language_info": {
   "codemirror_mode": {
    "name": "ipython",
    "version": 3
   },
   "file_extension": ".py",
   "mimetype": "text/x-python",
   "name": "python",
   "nbconvert_exporter": "python",
   "pygments_lexer": "ipython3",
   "version": "3.9.7"
  }
 },
 "nbformat": 4,
 "nbformat_minor": 5
}
